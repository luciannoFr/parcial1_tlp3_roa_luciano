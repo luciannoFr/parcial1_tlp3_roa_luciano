{
 "cells": [
  {
   "cell_type": "markdown",
   "id": "9fee5ee9",
   "metadata": {},
   "source": [
    "# Examen Parcial n°1 2da Parte - TLP3 - Python para Ciencia de Datos.\n"
   ]
  },
  {
   "cell_type": "markdown",
   "id": "999099d0",
   "metadata": {},
   "source": [
    "**A partir del datasets brindado, realizar los siguientes procedimientos:**\n",
    "\n",
    "* Importar datasets con Pandas.\n",
    "* Explorar los datos con los metodos correspondientes. \n",
    "* Limpieza de los datos (Normalización de datos).\n",
    "* Obtener estadisticas.\n",
    "* Mostrar los datos procesados con graficos utilizando la libreria Matplotlib.\n",
    "* Exportar el contenido a un archivo sqlite utilizando PANDAS.\n",
    "\n",
    "\n",
    "**Importante: Se debe documentar cada procedimiento realizado, siguiendo la siguiente estructura:**\n",
    "\n",
    "1. Celda de Markdown (Documentación)\n",
    "2. Código (Sin comentarios, se debe documentar lo sufiente solo en la celda de markdown).\n",
    "\n",
    "\n",
    "### Criterios de Evaluación:\n",
    "\n",
    "1. No esta permitido el uso de IAs durante el examen. (Desactivar Copilot o cualquier herramienta de IA para autocompletar codigo.)\n",
    "\n",
    "2. Se deben utilizar nombres de variables descriptivos y claros (Utilizar la nomeclatura correspondiente para los nombres de variables).\n",
    "\n",
    "3. Comentarios claros y concisos que expliquen el propósito de cada sección del código en una celda de markdown antes del código.\n",
    "\n",
    "4. Utilizar mensajes de commit descriptivos. (Puedes utilizar la extension CONVENTIONAL COMMIT de VS-CODE).\n",
    "\n",
    "5. Entrega en tiempo y forma (Parciales entregados fuera de hora o con commits pasados el horario de entrega quedará invalidado.)\n",
    "\n",
    "6. Todo el código desarrollado debe ser subido a un repositorio en GitHub (el nombre del repositorio de seguir la siguiente estructura: \n",
    "**parcial1_tlp3_nombre_apellido**).\n",
    "\n",
    "7. Para resolver las actividades se debe insertar casillas de codigo entre cada actividad del cuaderno de Jupyter.\n",
    "\n",
    "8. Deben trabajar con el datasets adjunto.\n",
    "\n",
    "9. Una vez finalizado el examen, los resultados deben quedar guardados debajo de cada celda (NO EJECUTAR LA OPCIÓN \"borrar todas las salidas\").\n",
    "\n",
    "**Importante:** Una vez finalizado el examen, marcar como completado en el classroom."
   ]
  },
  {
   "cell_type": "markdown",
   "id": "dd91f969",
   "metadata": {},
   "source": [
    "## Actividades: \n",
    "### 1. Importación del Dataset con Pandas\n",
    "\n",
    "En esta sección, se debe utilizar la librería Pandas para cargar el archivo CSV que contiene los datos de VENTAS en un DataFrame.\n",
    "\n",
    "### 2. Exploración Inicial de los Datos\n",
    "\n",
    "A continuación, se deben emplear métodos de Pandas para obtener una visión general del dataset. \n",
    "- 2.1: Visualizar las primeras filas y ultimas.\n",
    "- 2.2: Obtener informacion del df con su metodo correspondiente.\n",
    "- 2.3: Hacer un conteo de valores nulos.\n",
    "\n",
    "### 3. Limpieza y Normalización de los Datos\n",
    "\n",
    "- 3.1. Esta etapa crucial deben aplicar la corrección de diversos errores presentes en el dataset. Se abordarán los valores faltantes (Deben aplicar los metodos que ustedes crean convenientes **(Solo 1)**, por ejemplo: Eliminación de filas, cubrir valores con media, mediana, etc.)\n",
    "- 3.2: La columna Fecha deberan pasarla al tipo datetime con su metodo correspondiente.\n",
    "- 3.3: Corregir las mayusculas en el caso de Nombre y Apellido (Si es que corresponde.)\n",
    "\n",
    "\n",
    "### 4. Obtención de Estadísticas Descriptivas\n",
    "\n",
    "Después de la limpieza, deben hacer lo siguiente: \n",
    "\n",
    "- 4.1: calcular nuevamente las estadísticas descriptivas para observar el impacto del proceso de limpieza en los datos numéricos.\n",
    "- 4.2: Calcular estadísticas específicas por grupo (Agrupar dos columnas).\n",
    "\n",
    "### 5. Visualización de los Datos con Matplotlib\n",
    "\n",
    "En esta sección, deben utilizar la librería Matplotlib para crear **UNA** visualización que permitan comprender mejor los datos de ventas.El grafico es a elección, puede crear **UNO** de los siguientes: histogramas, diagramas de dispersión, gráficos de barras y graficos de torta.\n",
    "\n",
    "### 6. Exportación a Archivo SQLite\n",
    "\n",
    "Finalmente, deben utilizar la funcionalidad de Pandas para guardar el DataFrame procesado en una base de datos SQLite. Deben hacer una conexión y hacer una consulta para ver si los datos fueron cargados correctamente.\n",
    "\n"
   ]
  },
  {
   "cell_type": "markdown",
   "id": "28d7b4dd",
   "metadata": {},
   "source": [
    "### 1. Importación del Dataset con Pandas\n",
    "\n",
    "En esta sección, se debe utilizar la librería Pandas para cargar el archivo CSV que contiene los datos de VENTAS en un DataFrame."
   ]
  },
  {
   "cell_type": "code",
   "execution_count": 45,
   "id": "d804aabe",
   "metadata": {},
   "outputs": [],
   "source": [
    "import pandas as pd \n",
    "df = pd.read_csv(\"ventas.csv\") #se carga el archivo csv con pandas como dataframe"
   ]
  },
  {
   "cell_type": "markdown",
   "id": "4f979ee2",
   "metadata": {},
   "source": [
    "### 2. Exploración Inicial de los Datos\n",
    "\n",
    "A continuación, se deben emplear métodos de Pandas para obtener una visión general del dataset. \n",
    "- 2.1: Visualizar las primeras filas y ultimas.\n",
    "- 2.2: Obtener informacion del df con su metodo correspondiente.\n",
    "- 2.3: Hacer un conteo de valores nulos."
   ]
  },
  {
   "cell_type": "code",
   "execution_count": 56,
   "id": "0cf3085a",
   "metadata": {},
   "outputs": [
    {
     "name": "stdout",
     "output_type": "stream",
     "text": [
      "<class 'pandas.core.frame.DataFrame'>\n",
      "RangeIndex: 105 entries, 0 to 104\n",
      "Data columns (total 10 columns):\n",
      " #   Column            Non-Null Count  Dtype  \n",
      "---  ------            --------------  -----  \n",
      " 0   ID_Venta          105 non-null    int64  \n",
      " 1   Nombre_Cliente    105 non-null    object \n",
      " 2   Apellido_Cliente  105 non-null    object \n",
      " 3   Fecha             105 non-null    object \n",
      " 4   Producto          101 non-null    object \n",
      " 5   Cantidad          105 non-null    int64  \n",
      " 6   Precio_Unitario   92 non-null     float64\n",
      " 7   Total_Venta       92 non-null     float64\n",
      " 8   Metodo_Pago       94 non-null     object \n",
      " 9   Region            100 non-null    object \n",
      "dtypes: float64(2), int64(2), object(6)\n",
      "memory usage: 8.3+ KB\n"
     ]
    },
    {
     "data": {
      "text/plain": [
       "ID_Venta             0\n",
       "Nombre_Cliente       0\n",
       "Apellido_Cliente     0\n",
       "Fecha                0\n",
       "Producto             4\n",
       "Cantidad             0\n",
       "Precio_Unitario     13\n",
       "Total_Venta         13\n",
       "Metodo_Pago         11\n",
       "Region               5\n",
       "dtype: int64"
      ]
     },
     "execution_count": 56,
     "metadata": {},
     "output_type": "execute_result"
    }
   ],
   "source": [
    "#2.1\n",
    "df.head() #se muestra las primeras filas para ver como estan los datos\n",
    "\n",
    "df.tail() #se muestra las ultimas filas\n",
    "\n",
    "#2.2\n",
    "df.info() #se ve un resumen del df\n",
    "\n",
    "#2.3\n",
    "df.isnull().sum() #conteo de valores nulos"
   ]
  },
  {
   "cell_type": "markdown",
   "id": "c279b1a6",
   "metadata": {},
   "source": [
    "### 3. Limpieza y Normalización de los Datos\n",
    "\n",
    "- 3.1. Esta etapa crucial deben aplicar la corrección de diversos errores presentes en el dataset. Se abordarán los valores faltantes (Deben aplicar los metodos que ustedes crean convenientes **(Solo 1)**, por ejemplo: Eliminación de filas, cubrir valores con media, mediana, etc.)\n",
    "- 3.2: La columna Fecha deberan pasarla al tipo datetime con su metodo correspondiente.\n",
    "- 3.3: Corregir las mayusculas en el caso de Nombre y Apellido (Si es que corresponde.)"
   ]
  },
  {
   "cell_type": "code",
   "execution_count": 60,
   "id": "4704688f",
   "metadata": {},
   "outputs": [
    {
     "name": "stdout",
     "output_type": "stream",
     "text": [
      "<class 'pandas.core.frame.DataFrame'>\n",
      "Index: 101 entries, 0 to 104\n",
      "Data columns (total 10 columns):\n",
      " #   Column            Non-Null Count  Dtype  \n",
      "---  ------            --------------  -----  \n",
      " 0   ID_Venta          101 non-null    int64  \n",
      " 1   Nombre_Cliente    101 non-null    object \n",
      " 2   Apellido_Cliente  101 non-null    object \n",
      " 3   Fecha             101 non-null    object \n",
      " 4   Producto          101 non-null    object \n",
      " 5   Cantidad          101 non-null    int64  \n",
      " 6   Precio_Unitario   89 non-null     float64\n",
      " 7   Total_Venta       89 non-null     float64\n",
      " 8   Metodo_Pago       90 non-null     object \n",
      " 9   Region            96 non-null     object \n",
      "dtypes: float64(2), int64(2), object(6)\n",
      "memory usage: 8.7+ KB\n"
     ]
    },
    {
     "data": {
      "text/html": [
       "<div>\n",
       "<style scoped>\n",
       "    .dataframe tbody tr th:only-of-type {\n",
       "        vertical-align: middle;\n",
       "    }\n",
       "\n",
       "    .dataframe tbody tr th {\n",
       "        vertical-align: top;\n",
       "    }\n",
       "\n",
       "    .dataframe thead th {\n",
       "        text-align: right;\n",
       "    }\n",
       "</style>\n",
       "<table border=\"1\" class=\"dataframe\">\n",
       "  <thead>\n",
       "    <tr style=\"text-align: right;\">\n",
       "      <th></th>\n",
       "      <th>ID_Venta</th>\n",
       "      <th>Nombre_Cliente</th>\n",
       "      <th>Apellido_Cliente</th>\n",
       "      <th>Fecha</th>\n",
       "      <th>Producto</th>\n",
       "      <th>Cantidad</th>\n",
       "      <th>Precio_Unitario</th>\n",
       "      <th>Total_Venta</th>\n",
       "      <th>Metodo_Pago</th>\n",
       "      <th>Region</th>\n",
       "    </tr>\n",
       "  </thead>\n",
       "  <tbody>\n",
       "    <tr>\n",
       "      <th>0</th>\n",
       "      <td>1</td>\n",
       "      <td>Ana</td>\n",
       "      <td>García</td>\n",
       "      <td>01-05-2024</td>\n",
       "      <td>Laptop</td>\n",
       "      <td>1</td>\n",
       "      <td>1200.50</td>\n",
       "      <td>1200.50</td>\n",
       "      <td>Tarjeta de Crédito</td>\n",
       "      <td>Norte</td>\n",
       "    </tr>\n",
       "    <tr>\n",
       "      <th>1</th>\n",
       "      <td>2</td>\n",
       "      <td>Carlos</td>\n",
       "      <td>López</td>\n",
       "      <td>08-01-2024</td>\n",
       "      <td>Mouse Inalámbrico</td>\n",
       "      <td>2</td>\n",
       "      <td>25.75</td>\n",
       "      <td>51.50</td>\n",
       "      <td>Efectivo</td>\n",
       "      <td>Sur</td>\n",
       "    </tr>\n",
       "    <tr>\n",
       "      <th>2</th>\n",
       "      <td>3</td>\n",
       "      <td>Sofía</td>\n",
       "      <td>Martínez</td>\n",
       "      <td>12-01-2024</td>\n",
       "      <td>Teclado Mecánico</td>\n",
       "      <td>1</td>\n",
       "      <td>75.99</td>\n",
       "      <td>75.99</td>\n",
       "      <td>Transferencia Bancaria</td>\n",
       "      <td>Este</td>\n",
       "    </tr>\n",
       "    <tr>\n",
       "      <th>3</th>\n",
       "      <td>4</td>\n",
       "      <td>Pedro</td>\n",
       "      <td>Rodríguez</td>\n",
       "      <td>15-01-2024</td>\n",
       "      <td>Monitor 24 pulgadas</td>\n",
       "      <td>1</td>\n",
       "      <td>NaN</td>\n",
       "      <td>NaN</td>\n",
       "      <td>Tarjeta de Débito</td>\n",
       "      <td>Oeste</td>\n",
       "    </tr>\n",
       "    <tr>\n",
       "      <th>4</th>\n",
       "      <td>5</td>\n",
       "      <td>Laura</td>\n",
       "      <td>Sánchez</td>\n",
       "      <td>18-01-2024</td>\n",
       "      <td>Auriculares Bluetooth</td>\n",
       "      <td>1</td>\n",
       "      <td>99.95</td>\n",
       "      <td>99.95</td>\n",
       "      <td>Tarjeta de Crédito</td>\n",
       "      <td>Norte</td>\n",
       "    </tr>\n",
       "  </tbody>\n",
       "</table>\n",
       "</div>"
      ],
      "text/plain": [
       "   ID_Venta Nombre_Cliente Apellido_Cliente       Fecha  \\\n",
       "0         1            Ana           García  01-05-2024   \n",
       "1         2         Carlos            López  08-01-2024   \n",
       "2         3          Sofía         Martínez  12-01-2024   \n",
       "3         4          Pedro        Rodríguez  15-01-2024   \n",
       "4         5          Laura          Sánchez  18-01-2024   \n",
       "\n",
       "                Producto  Cantidad  Precio_Unitario  Total_Venta  \\\n",
       "0                 Laptop         1          1200.50      1200.50   \n",
       "1      Mouse Inalámbrico         2            25.75        51.50   \n",
       "2       Teclado Mecánico         1            75.99        75.99   \n",
       "3    Monitor 24 pulgadas         1              NaN          NaN   \n",
       "4  Auriculares Bluetooth         1            99.95        99.95   \n",
       "\n",
       "              Metodo_Pago Region  \n",
       "0      Tarjeta de Crédito  Norte  \n",
       "1                Efectivo    Sur  \n",
       "2  Transferencia Bancaria   Este  \n",
       "3       Tarjeta de Débito  Oeste  \n",
       "4      Tarjeta de Crédito  Norte  "
      ]
     },
     "execution_count": 60,
     "metadata": {},
     "output_type": "execute_result"
    }
   ],
   "source": [
    "#3.1\n",
    "df = df.dropna(subset=[\"Producto\"]) #elimino los productos que no tienen nombre\n",
    "df.info()\n",
    "df[\"Precio_Unitario\"].fillna(df[\"Precio_Unitario\"], inplace=True) #se cambian los datos nulos en precio_unitario con la media\n",
    "df[\"Total_Venta\"] = df[\"Cantidad\"] * df[\"Precio_Unitario\"] #el total depende del precio unitario, entonces rellenamos lo que falta con una multiplicacion\n",
    "#3.2\n",
    "def convertir_d_m_y(fecha_str):\n",
    "    fecha_str=str(fecha_str).strip()\n",
    "    try:\n",
    "        if fecha_str[:4].isdigit():\n",
    "            fecha = pd.to_datetime(fecha_str, dayfirst=False, errors=\"raise\")\n",
    "            return fecha.strftime(\"%d-%m-%Y\")\n",
    "        else:\n",
    "            fecha = pd.to_datetime(fecha_str, dayfirst=True, errors=\"raise\")\n",
    "            return fecha.strftime(\"%d-%m-%Y\")\n",
    "    except:\n",
    "        return \"Fecha invalida\"\n",
    "df[\"Fecha\"]= df[\"Fecha\"].apply(convertir_d_m_y) #se realiza una funcion que separa la fecha y le cambia el formato asi quedan iguales todos\n",
    "#3.3\n",
    "df[\"Nombre_Cliente\"] = df[\"Nombre_Cliente\"].str.capitalize()\n",
    "df[\"Apellido_Cliente\"] = df[\"Apellido_Cliente\"].str.capitalize()#en los dos se pone mayuscula al principio porque habia algunos que no tenian capitalizado los nombres\n",
    "df.head() #para mostrar que se ve bien"
   ]
  },
  {
   "cell_type": "markdown",
   "id": "a12fe372",
   "metadata": {},
   "source": [
    "### 4. Obtención de Estadísticas Descriptivas\n",
    "\n",
    "Después de la limpieza, deben hacer lo siguiente: \n",
    "\n",
    "- 4.1: calcular nuevamente las estadísticas descriptivas para observar el impacto del proceso de limpieza en los datos numéricos.\n",
    "- 4.2: Calcular estadísticas específicas por grupo (Agrupar dos columnas)."
   ]
  },
  {
   "cell_type": "code",
   "execution_count": 81,
   "id": "4b1018bd",
   "metadata": {},
   "outputs": [
    {
     "name": "stdout",
     "output_type": "stream",
     "text": [
      "         ID_Venta    Cantidad  Precio_Unitario  Total_Venta\n",
      "count  101.000000  101.000000        89.000000    89.000000\n",
      "mean    51.653465    1.198020       233.000899   236.090112\n",
      "std     30.181264    0.548084       382.010034   380.404887\n",
      "min      1.000000    1.000000         2.000000     2.000000\n",
      "25%     26.000000    1.000000        49.990000    55.000000\n",
      "50%     51.000000    1.000000        92.990000    95.500000\n",
      "75%     77.000000    1.000000       180.500000   180.500000\n",
      "max    105.000000    4.000000      1800.990000  1800.990000\n"
     ]
    },
    {
     "data": {
      "text/html": [
       "<div>\n",
       "<style scoped>\n",
       "    .dataframe tbody tr th:only-of-type {\n",
       "        vertical-align: middle;\n",
       "    }\n",
       "\n",
       "    .dataframe tbody tr th {\n",
       "        vertical-align: top;\n",
       "    }\n",
       "\n",
       "    .dataframe thead th {\n",
       "        text-align: right;\n",
       "    }\n",
       "</style>\n",
       "<table border=\"1\" class=\"dataframe\">\n",
       "  <thead>\n",
       "    <tr style=\"text-align: right;\">\n",
       "      <th></th>\n",
       "      <th>Region</th>\n",
       "      <th>Metodo_Pago</th>\n",
       "      <th>Cantidad</th>\n",
       "    </tr>\n",
       "  </thead>\n",
       "  <tbody>\n",
       "    <tr>\n",
       "      <th>0</th>\n",
       "      <td>Este</td>\n",
       "      <td>Transferencia Bancaria</td>\n",
       "      <td>14</td>\n",
       "    </tr>\n",
       "    <tr>\n",
       "      <th>1</th>\n",
       "      <td>Norte</td>\n",
       "      <td>Tarjeta de Crédito</td>\n",
       "      <td>22</td>\n",
       "    </tr>\n",
       "    <tr>\n",
       "      <th>2</th>\n",
       "      <td>Oeste</td>\n",
       "      <td>Tarjeta de Débito</td>\n",
       "      <td>40</td>\n",
       "    </tr>\n",
       "    <tr>\n",
       "      <th>3</th>\n",
       "      <td>Sur</td>\n",
       "      <td>Efectivo</td>\n",
       "      <td>28</td>\n",
       "    </tr>\n",
       "  </tbody>\n",
       "</table>\n",
       "</div>"
      ],
      "text/plain": [
       "  Region             Metodo_Pago  Cantidad\n",
       "0   Este  Transferencia Bancaria        14\n",
       "1  Norte      Tarjeta de Crédito        22\n",
       "2  Oeste       Tarjeta de Débito        40\n",
       "3    Sur                Efectivo        28"
      ]
     },
     "execution_count": 81,
     "metadata": {},
     "output_type": "execute_result"
    }
   ],
   "source": [
    "#4.1\n",
    "print(df.describe()) #se hace estadistica para ver como queda el df despues de limpiar\n",
    "#4.2\n",
    "ventas_por_region = df.groupby([\"Region\",\"Metodo_Pago\"])[\"Cantidad\"].sum().reset_index() #se agrupa por metodo de pago y region para ver donde se vende mas y con que se compra mas\n",
    "ventas_por_region.head(10)"
   ]
  },
  {
   "cell_type": "markdown",
   "id": "a3fcd784",
   "metadata": {},
   "source": [
    "### 5. Visualización de los Datos con Matplotlib\n",
    "\n",
    "En esta sección, deben utilizar la librería Matplotlib para crear **UNA** visualización que permitan comprender mejor los datos de ventas.El grafico es a elección, puede crear **UNO** de los siguientes: histogramas, diagramas de dispersión, gráficos de barras y graficos de torta.\n"
   ]
  },
  {
   "cell_type": "code",
   "execution_count": 83,
   "id": "15eef6fa",
   "metadata": {},
   "outputs": [
    {
     "data": {
      "text/plain": [
       "<function matplotlib.pyplot.show(close=None, block=None)>"
      ]
     },
     "execution_count": 83,
     "metadata": {},
     "output_type": "execute_result"
    },
    {
     "data": {
      "image/png": "[encoded data removed]",
      "text/plain": [
       "<Figure size 640x480 with 1 Axes>"
      ]
     },
     "metadata": {},
     "output_type": "display_data"
    }
   ],
   "source": [
    "import matplotlib.pyplot as plt \n",
    "plt.bar(ventas_por_region[\"Region\"], ventas_por_region[\"Cantidad\"], color=\"blue\")\n",
    "plt.title(\"Total de ventas por region\")\n",
    "plt.ylabel(\"Total de ventas\")\n",
    "plt.xlabel(\"Region\")\n",
    "plt.grid(axis=\"y\")\n",
    "plt.show"
   ]
  }
 ],
 "metadata": {
  "kernelspec": {
   "display_name": "venv",
   "language": "python",
   "name": "python3"
  },
  "language_info": {
   "codemirror_mode": {
    "name": "ipython",
    "version": 3
   },
   "file_extension": ".py",
   "mimetype": "text/x-python",
   "name": "python",
   "nbconvert_exporter": "python",
   "pygments_lexer": "ipython3",
   "version": "3.13.2"
  }
 },
 "nbformat": 4,
 "nbformat_minor": 5
}
